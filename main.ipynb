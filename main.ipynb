{
 "cells": [
  {
   "cell_type": "code",
   "execution_count": 12,
   "metadata": {},
   "outputs": [],
   "source": [
    "import fasttext.util"
   ]
  },
  {
   "cell_type": "code",
   "execution_count": 13,
   "metadata": {},
   "outputs": [],
   "source": [
    "# cleaning the train.csv so that it is acceptable to fastAPI training pipeline\n",
    "with open('./data/train.csv') as f:\n",
    "    with open('./data/train_final.txt', 'w') as fw:\n",
    "        for line in f:\n",
    "            words = line.split(\",\")\n",
    "            last_word = words[-1].strip()\n",
    "            if(len(last_word) < 18 and len(last_word) > 0):\n",
    "                _temp = result = \" \".join(words[:-1])\n",
    "                if(len(_temp) > 15):\n",
    "                    fw.write(f'__label__{last_word} {_temp}' + '\\n')   "
   ]
  },
  {
   "cell_type": "code",
   "execution_count": 14,
   "metadata": {},
   "outputs": [],
   "source": [
    "# cleaning the valid.csv to the format of FastText\n",
    "with open('./data/valid.csv') as f:\n",
    "    with open('./data/test_final.txt', 'w') as fw:\n",
    "        for line in f:\n",
    "            words = line.split(\",\")\n",
    "            last_word = words[-1].strip()\n",
    "            if(len(last_word) < 18 and len(last_word) > 0):\n",
    "                _temp = result = \" \".join(words[:-1])\n",
    "                if(len(_temp) > 15):\n",
    "                    fw.write(f'__label__{last_word} {_temp}' + '\\n') "
   ]
  },
  {
   "cell_type": "code",
   "execution_count": 15,
   "metadata": {},
   "outputs": [
    {
     "name": "stderr",
     "output_type": "stream",
     "text": [
      "Read 0M words\n",
      "Number of words:  36457\n",
      "Number of labels: 13\n",
      "Progress: 100.0% words/sec/thread: 1444848 lr:  0.000000 avg.loss:  0.593696 ETA:   0h 0m 0s\n"
     ]
    }
   ],
   "source": [
    "model = fasttext.train_supervised(input=\"./data/train_final.txt\")\n",
    "model.save_model('./models/news_classification_model.bin')"
   ]
  },
  {
   "cell_type": "code",
   "execution_count": 19,
   "metadata": {},
   "outputs": [
    {
     "name": "stdout",
     "output_type": "stream",
     "text": [
      "(('__label__business',), array([0.94027817]))\n"
     ]
    }
   ],
   "source": [
    "loaded_model = fasttext.load_model('./models/news_classification_model.bin')\n",
    "prediction = loaded_model.predict('बजेट : पेट्रोलियम ऊर्जाबाट विद्युतमा फड्को मार्ने तयारी')\n",
    "print(prediction)"
   ]
  },
  {
   "cell_type": "code",
   "execution_count": 18,
   "metadata": {},
   "outputs": [
    {
     "data": {
      "text/plain": [
       "(1455, 0.07692307692307693, 1.0)"
      ]
     },
     "execution_count": 18,
     "metadata": {},
     "output_type": "execute_result"
    }
   ],
   "source": [
    "result = loaded_model.test(\"./data/test_final.txt\", k=-1)\n",
    "result"
   ]
  }
 ],
 "metadata": {
  "kernelspec": {
   "display_name": "venv",
   "language": "python",
   "name": "python3"
  },
  "language_info": {
   "codemirror_mode": {
    "name": "ipython",
    "version": 3
   },
   "file_extension": ".py",
   "mimetype": "text/x-python",
   "name": "python",
   "nbconvert_exporter": "python",
   "pygments_lexer": "ipython3",
   "version": "3.10.6"
  },
  "orig_nbformat": 4
 },
 "nbformat": 4,
 "nbformat_minor": 2
}
